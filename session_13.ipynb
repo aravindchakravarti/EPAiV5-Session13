{
 "cells": [
  {
   "cell_type": "code",
   "execution_count": 46,
   "metadata": {},
   "outputs": [],
   "source": [
    "from collections import namedtuple\n",
    "from contextlib import contextmanager\n",
    "import csv"
   ]
  },
  {
   "cell_type": "markdown",
   "metadata": {},
   "source": [
    "# Section - 1: Context Manager + Generator using a Python Class"
   ]
  },
  {
   "cell_type": "code",
   "execution_count": 27,
   "metadata": {},
   "outputs": [],
   "source": [
    "class CSVDataIterator:\n",
    "    ''' Reads the CSV file, generates a \"Generator\" where data is parses in named tuple\n",
    "    '''\n",
    "    def __init__(self, file_name: str, mode: str, separator: str):\n",
    "        ''' Initializes the class with properties required for reading the file\n",
    "        \n",
    "        Parameters:\n",
    "        ----------\n",
    "        file_name:  File Name in STRING, which to be read\n",
    "        mode:       'r' for read, 'w' for write and 'a' for append. Although only 'r' is supported\n",
    "        separator:  Seperator which seperates the data in each row. Generally it will be ',' \n",
    "                    but it can be any charecter\n",
    "        \n",
    "        '''\n",
    "        if mode not in ['r']:\n",
    "            raise ValueError(f\"Mode {mode} is not supported. Only 'r' (read) mode is allowed.\")\n",
    "\n",
    "        self._file = file_name\n",
    "        self._mode = mode\n",
    "        self._separator = separator\n",
    "        # Header of the CSV file is saved in this list. It is assumed that only one \n",
    "        # line of header is present in the CSV file\n",
    "        self._header = []\n",
    "\n",
    "    def __iter__(self):\n",
    "        ''' Iterator for the \"for\" loop \n",
    "        '''\n",
    "        return self\n",
    "    \n",
    "    def __next__(self):\n",
    "        ''' To fetch the next time. Each row is fetched and then new line charecter is stripped\n",
    "        and each row is then split according to \"seperator\" which was sending during construction \n",
    "        of the object \n",
    "        '''\n",
    "        row = next(self._CSV_file_fd)\n",
    "        data = self._csv_data(*row)\n",
    "        return data\n",
    "\n",
    "    def __enter__(self):\n",
    "        ''' When enter the context, read the first line (which is header) and return the object\n",
    "        '''\n",
    "        try:\n",
    "            self._fd = open(self._file, self._mode)\n",
    "            self._CSV_file_fd = csv.reader(self._fd, delimiter= self._separator)\n",
    "            self._header = list(next(self._CSV_file_fd))\n",
    "            self._csv_data = namedtuple('csv_data', self._header)\n",
    "            return self\n",
    "        except IOError as e:\n",
    "            print(f\"Error opening file: {e}\")\n",
    "            raise\n",
    "    \n",
    "    def __exit__(self, exc_type, exc_value, exc_tb):\n",
    "        ''' Upon exiting the context close the file and display any error/exception occurred. \n",
    "        if exception has occured then stop the excecution of the code\n",
    "        '''\n",
    "        self._fd.close()\n",
    "        if exc_type:\n",
    "            print(f\"Exception {exc_type} occurred: {exc_value}\")\n",
    "            \n",
    "        if self._fd.closed:\n",
    "            print(\"File closed properly\")\n",
    "        else:\n",
    "            print(\"File did not close properly.\")\n",
    "        return False\n"
   ]
  },
  {
   "cell_type": "markdown",
   "metadata": {},
   "source": [
    "### Try with 'cars-2.csv' and 'personal_info.csv' files and display first 5 items"
   ]
  },
  {
   "cell_type": "code",
   "execution_count": 31,
   "metadata": {},
   "outputs": [
    {
     "name": "stdout",
     "output_type": "stream",
     "text": [
      "['Car', 'MPG', 'Cylinders', 'Displacement', 'Horsepower', 'Weight', 'Acceleration', 'Model', 'Origin']\n",
      "csv_data(Car='Chevrolet Chevelle Malibu', MPG='18.0', Cylinders='8', Displacement='307.0', Horsepower='130.0', Weight='3504.', Acceleration='12.0', Model='70', Origin='US')\n",
      "csv_data(Car='Buick Skylark 320', MPG='15.0', Cylinders='8', Displacement='350.0', Horsepower='165.0', Weight='3693.', Acceleration='11.5', Model='70', Origin='US')\n",
      "csv_data(Car='Plymouth Satellite', MPG='18.0', Cylinders='8', Displacement='318.0', Horsepower='150.0', Weight='3436.', Acceleration='11.0', Model='70', Origin='US')\n",
      "csv_data(Car='AMC Rebel SST', MPG='16.0', Cylinders='8', Displacement='304.0', Horsepower='150.0', Weight='3433.', Acceleration='12.0', Model='70', Origin='US')\n",
      "csv_data(Car='Ford Torino', MPG='17.0', Cylinders='8', Displacement='302.0', Horsepower='140.0', Weight='3449.', Acceleration='10.5', Model='70', Origin='US')\n",
      "csv_data(Car='Ford Galaxie 500', MPG='15.0', Cylinders='8', Displacement='429.0', Horsepower='198.0', Weight='4341.', Acceleration='10.0', Model='70', Origin='US')\n",
      "File closed properly\n"
     ]
    }
   ],
   "source": [
    "num_of_rows_to_print = 0\n",
    "with CSVDataIterator('cars-2.csv', 'r', ';') as file:\n",
    "    print(file._header)\n",
    "    for row in file:\n",
    "        print (row)\n",
    "        num_of_rows_to_print += 1\n",
    "        if (num_of_rows_to_print > 5):\n",
    "            break"
   ]
  },
  {
   "cell_type": "code",
   "execution_count": 33,
   "metadata": {},
   "outputs": [
    {
     "name": "stdout",
     "output_type": "stream",
     "text": [
      "['ssn', 'first_name', 'last_name', 'gender', 'language']\n",
      "csv_data(ssn='100-53-9824', first_name='Sebastiano', last_name='Tester', gender='Male', language='Icelandic')\n",
      "csv_data(ssn='101-71-4702', first_name='Cayla', last_name='MacDonagh', gender='Female', language='Lao')\n",
      "csv_data(ssn='101-84-0356', first_name='Nomi', last_name='Lipprose', gender='Female', language='Yiddish')\n",
      "csv_data(ssn='104-22-0928', first_name='Justinian', last_name='Kunzelmann', gender='Male', language='Dhivehi')\n",
      "csv_data(ssn='104-84-7144', first_name='Claudianus', last_name='Brixey', gender='Male', language='Afrikaans')\n",
      "csv_data(ssn='105-27-5541', first_name='Federico', last_name='Aggett', gender='Male', language='Chinese')\n",
      "File closed properly\n"
     ]
    }
   ],
   "source": [
    "num_of_rows_to_print = 0\n",
    "with CSVDataIterator('personal_info.csv', 'r', ',') as file:\n",
    "    print(file._header)\n",
    "    for row in file:\n",
    "        print (row)\n",
    "        num_of_rows_to_print += 1\n",
    "        if (num_of_rows_to_print > 5):\n",
    "            break"
   ]
  },
  {
   "cell_type": "markdown",
   "metadata": {},
   "source": [
    "# Section - 2: Context Manager + Generator using a Python Function and ContextManager Decorator"
   ]
  },
  {
   "cell_type": "code",
   "execution_count": 59,
   "metadata": {},
   "outputs": [],
   "source": [
    "@contextmanager\n",
    "def CSVDataIterator_f(fname :str, mode :str = 'r', separator :str= ','):\n",
    "    ''' Function helps in generating the \"Generator\" by reading a csv file.\n",
    "    '''\n",
    "    print(\"Trying to open file ... \")\n",
    "    try:\n",
    "        print(f\"{fname} and {mode}\")\n",
    "        file_fd = open(fname, mode)\n",
    "        csv_file_fd = csv.reader(file_fd, delimiter=separator)\n",
    "\n",
    "        # Read the header explicitly\n",
    "        header = next(csv_file_fd)\n",
    "        print(\"Header:\", header)\n",
    "\n",
    "        # yield untill end of the file \n",
    "        yield csv_file_fd\n",
    "    except FileNotFoundError:\n",
    "        print(\"No such file exists in this path\")\n",
    "    finally:\n",
    "        file_fd.close()\n"
   ]
  },
  {
   "cell_type": "markdown",
   "metadata": {},
   "source": [
    "### Try with 'cars-2.csv' and 'personal_info.csv' files and display first 5 items"
   ]
  },
  {
   "cell_type": "code",
   "execution_count": 60,
   "metadata": {},
   "outputs": [
    {
     "name": "stdout",
     "output_type": "stream",
     "text": [
      "Trying to open file ... \n",
      "cars-2.csv and r\n",
      "Header: ['Car', 'MPG', 'Cylinders', 'Displacement', 'Horsepower', 'Weight', 'Acceleration', 'Model', 'Origin']\n",
      "['Chevrolet Chevelle Malibu', '18.0', '8', '307.0', '130.0', '3504.', '12.0', '70', 'US']\n",
      "['Buick Skylark 320', '15.0', '8', '350.0', '165.0', '3693.', '11.5', '70', 'US']\n",
      "['Plymouth Satellite', '18.0', '8', '318.0', '150.0', '3436.', '11.0', '70', 'US']\n",
      "['AMC Rebel SST', '16.0', '8', '304.0', '150.0', '3433.', '12.0', '70', 'US']\n",
      "['Ford Torino', '17.0', '8', '302.0', '140.0', '3449.', '10.5', '70', 'US']\n",
      "['Ford Galaxie 500', '15.0', '8', '429.0', '198.0', '4341.', '10.0', '70', 'US']\n"
     ]
    }
   ],
   "source": [
    "num_of_rows_to_print = 0\n",
    "with CSVDataIterator_f('cars-2.csv', 'r', ';') as file:\n",
    "    for row in file:\n",
    "        print (row)\n",
    "        num_of_rows_to_print += 1\n",
    "        if (num_of_rows_to_print > 5):\n",
    "            break"
   ]
  },
  {
   "cell_type": "code",
   "execution_count": 61,
   "metadata": {},
   "outputs": [
    {
     "name": "stdout",
     "output_type": "stream",
     "text": [
      "['ssn', 'first_name', 'last_name', 'gender', 'language']\n",
      "csv_data(ssn='100-53-9824', first_name='Sebastiano', last_name='Tester', gender='Male', language='Icelandic')\n",
      "csv_data(ssn='101-71-4702', first_name='Cayla', last_name='MacDonagh', gender='Female', language='Lao')\n",
      "csv_data(ssn='101-84-0356', first_name='Nomi', last_name='Lipprose', gender='Female', language='Yiddish')\n",
      "csv_data(ssn='104-22-0928', first_name='Justinian', last_name='Kunzelmann', gender='Male', language='Dhivehi')\n",
      "csv_data(ssn='104-84-7144', first_name='Claudianus', last_name='Brixey', gender='Male', language='Afrikaans')\n",
      "csv_data(ssn='105-27-5541', first_name='Federico', last_name='Aggett', gender='Male', language='Chinese')\n",
      "File closed properly\n"
     ]
    }
   ],
   "source": [
    "num_of_rows_to_print = 0\n",
    "with CSVDataIterator('personal_info.csv', 'r', ',') as file:\n",
    "    print(file._header)\n",
    "    for row in file:\n",
    "        print (row)\n",
    "        num_of_rows_to_print += 1\n",
    "        if (num_of_rows_to_print > 5):\n",
    "            break"
   ]
  }
 ],
 "metadata": {
  "kernelspec": {
   "display_name": "Python 3",
   "language": "python",
   "name": "python3"
  },
  "language_info": {
   "codemirror_mode": {
    "name": "ipython",
    "version": 3
   },
   "file_extension": ".py",
   "mimetype": "text/x-python",
   "name": "python",
   "nbconvert_exporter": "python",
   "pygments_lexer": "ipython3",
   "version": "3.12.3"
  }
 },
 "nbformat": 4,
 "nbformat_minor": 2
}
